{
 "cells": [
  {
   "cell_type": "markdown",
   "metadata": {},
   "source": [
    "# Decision Tree Classifier:"
   ]
  },
  {
   "cell_type": "code",
   "execution_count": 1,
   "metadata": {},
   "outputs": [],
   "source": [
    "import pandas as pd\n",
    "\n",
    "train = pd.read_csv(\"preprocessed_train_data.csv\")\n",
    "test = pd.read_csv(\"preprocessed_test_data.csv\")\n",
    "\n",
    "\n",
    "X_train = train.drop(columns = ['Survived','PassengerId','Name','Ticket','has_parents_or_children','SibSp'])\n",
    "X_train = pd.get_dummies(X_train)\n",
    "y_train = train.Survived\n",
    "\n",
    "\n",
    "X_test = test.drop(columns=['PassengerId','Name','Ticket','has_parents_or_children','SibSp'])\n",
    "X_test = pd.get_dummies(X_test)\n"
   ]
  },
  {
   "cell_type": "code",
   "execution_count": 2,
   "metadata": {},
   "outputs": [],
   "source": [
    "from sklearn.preprocessing import StandardScaler\n",
    "\n",
    "scaler = StandardScaler()\n",
    "scaler.fit(X_train)\n",
    "X_train = scaler.transform(X_train)\n",
    "X_test = scaler.transform(X_test)\n"
   ]
  },
  {
   "cell_type": "code",
   "execution_count": 3,
   "metadata": {},
   "outputs": [],
   "source": [
    "from sklearn.tree import DecisionTreeClassifier\n",
    "model = DecisionTreeClassifier()\n",
    "model.fit(X_train, y_train)\n",
    "result = model.predict(X_test)"
   ]
  },
  {
   "cell_type": "code",
   "execution_count": 4,
   "metadata": {},
   "outputs": [
    {
     "name": "stdout",
     "output_type": "stream",
     "text": [
      "Feature Importances: \n",
      "==========================\n",
      "Pclass: 10.164814965772324\n",
      "Sex: 2.357017923425039\n",
      "Age: 17.677830255451905\n",
      "Parch: 2.2584732744948948\n",
      "Fare: 17.499150813830838\n",
      "Embarked: 1.3407686987952592\n",
      "Cabin_name: 7.3575632102707695\n",
      "FareCat: 3.259691878431244\n",
      "Gender_title: 35.04992173417521\n",
      "Age_cat: 1.9221087826070353\n",
      "has_no_parents_or_children_and_age_20_50: 1.11265846274548\n"
     ]
    }
   ],
   "source": [
    "print(\"Feature Importances: \")\n",
    "print(\"==========================\")\n",
    "for importance, feature in zip(list(model.feature_importances_), list(pd.get_dummies(train.drop(columns = ['Survived','PassengerId','Name','Ticket','has_parents_or_children','SibSp'])))) :\n",
    "    print(\"{}: {}\".format(feature , importance*100))"
   ]
  },
  {
   "cell_type": "code",
   "execution_count": 5,
   "metadata": {},
   "outputs": [
    {
     "data": {
      "text/plain": [
       "100.0"
      ]
     },
     "execution_count": 5,
     "metadata": {},
     "output_type": "execute_result"
    }
   ],
   "source": [
    "(model.feature_importances_*100).sum()"
   ]
  },
  {
   "cell_type": "code",
   "execution_count": 6,
   "metadata": {},
   "outputs": [],
   "source": [
    "pd.DataFrame({'PassengerId':test.PassengerId,'Survived':result}).to_csv('gender_submission.csv', index= False)"
   ]
  },
  {
   "cell_type": "code",
   "execution_count": 7,
   "metadata": {},
   "outputs": [],
   "source": [
    "# 74.641% accuracy"
   ]
  }
 ],
 "metadata": {
  "kernelspec": {
   "display_name": "Python 3",
   "language": "python",
   "name": "python3"
  },
  "language_info": {
   "codemirror_mode": {
    "name": "ipython",
    "version": 3
   },
   "file_extension": ".py",
   "mimetype": "text/x-python",
   "name": "python",
   "nbconvert_exporter": "python",
   "pygments_lexer": "ipython3",
   "version": "3.7.4"
  }
 },
 "nbformat": 4,
 "nbformat_minor": 2
}
