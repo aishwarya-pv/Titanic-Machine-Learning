{
 "cells": [
  {
   "cell_type": "markdown",
   "metadata": {},
   "source": [
    "#  Neural Networks:"
   ]
  },
  {
   "cell_type": "code",
   "execution_count": 1,
   "metadata": {},
   "outputs": [
    {
     "data": {
      "text/plain": [
       "Pclass                     False\n",
       "Sex                        False\n",
       "Embarked                   False\n",
       "Cabin_name                 False\n",
       "FareCat                    False\n",
       "Gender_title               False\n",
       "Age_cat                    False\n",
       "has_parents_or_children    False\n",
       "dtype: bool"
      ]
     },
     "execution_count": 1,
     "metadata": {},
     "output_type": "execute_result"
    }
   ],
   "source": [
    "import pandas as pd\n",
    "\n",
    "train = pd.read_csv(\"preprocessed_train_data.csv\")\n",
    "test = pd.read_csv(\"preprocessed_test_data.csv\")\n",
    "\n",
    "X_train = train.drop(columns = ['Survived','PassengerId','Name','Ticket','Parch','SibSp','Age','Fare','has_no_parents_or_children_and_age_20_50'])\n",
    "y_train = train.Survived\n",
    "\n",
    "X_test = test.drop(columns=['PassengerId','Name','Ticket','Parch','SibSp','Age','Fare','has_no_parents_or_children_and_age_20_50'])\n",
    "\n",
    "X_test.isnull().any()\n"
   ]
  },
  {
   "cell_type": "code",
   "execution_count": 2,
   "metadata": {},
   "outputs": [
    {
     "name": "stderr",
     "output_type": "stream",
     "text": [
      "c:\\users\\mohit\\appdata\\local\\programs\\python\\python37\\lib\\site-packages\\sklearn\\model_selection\\_search.py:814: DeprecationWarning: The default of the `iid` parameter will change from True to False in version 0.22 and will be removed in 0.24. This will change numeric results when test-set sizes are unequal.\n",
      "  DeprecationWarning)\n"
     ]
    }
   ],
   "source": [
    "from sklearn.neural_network import MLPClassifier\n",
    "from sklearn.model_selection import GridSearchCV,StratifiedKFold\n",
    "\n",
    "nn_model = MLPClassifier(solver='lbfgs',random_state=0, )\n",
    "\n",
    "param_grid = {'hidden_layer_sizes':[[4,2],[10,8],[6,3],[10,5],[9,8]]}\n",
    "cv = StratifiedKFold(n_splits=5, random_state = 0, shuffle = True)\n",
    "grid = GridSearchCV(nn_model,param_grid, cv=cv,scoring='accuracy',\n",
    "                    return_train_score=True)\n",
    "\n",
    "grid.fit(X_train,y_train)\n",
    "\n",
    "result = grid.predict(X_test)\n"
   ]
  },
  {
   "cell_type": "code",
   "execution_count": 3,
   "metadata": {},
   "outputs": [],
   "source": [
    "pd.DataFrame({'PassengerId':test.PassengerId,'Survived':result}).to_csv('gender_submission.csv', index= False)"
   ]
  },
  {
   "cell_type": "code",
   "execution_count": 4,
   "metadata": {},
   "outputs": [],
   "source": [
    "# 79.425% accuracy"
   ]
  }
 ],
 "metadata": {
  "kernelspec": {
   "display_name": "Python 3",
   "language": "python",
   "name": "python3"
  },
  "language_info": {
   "codemirror_mode": {
    "name": "ipython",
    "version": 3
   },
   "file_extension": ".py",
   "mimetype": "text/x-python",
   "name": "python",
   "nbconvert_exporter": "python",
   "pygments_lexer": "ipython3",
   "version": "3.7.4"
  }
 },
 "nbformat": 4,
 "nbformat_minor": 2
}
