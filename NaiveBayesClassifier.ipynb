{
 "cells": [
  {
   "cell_type": "markdown",
   "metadata": {},
   "source": [
    "# Naive Bayes Classifier:\n"
   ]
  },
  {
   "cell_type": "code",
   "execution_count": 1,
   "metadata": {},
   "outputs": [
    {
     "data": {
      "text/plain": [
       "Pclass                     False\n",
       "Sex                        False\n",
       "Embarked                   False\n",
       "Cabin_name                 False\n",
       "FareCat                    False\n",
       "Gender_title               False\n",
       "Age_cat                    False\n",
       "has_parents_or_children    False\n",
       "dtype: bool"
      ]
     },
     "execution_count": 1,
     "metadata": {},
     "output_type": "execute_result"
    }
   ],
   "source": [
    "import pandas as pd\n",
    "\n",
    "train = pd.read_csv(\"preprocessed_train_data.csv\")\n",
    "test = pd.read_csv(\"preprocessed_test_data.csv\")\n",
    "\n",
    "X_train = train.drop(columns = ['Survived','PassengerId','Name','Ticket','Parch','SibSp','Age','Fare','has_no_parents_or_children_and_age_20_50'])\n",
    "y_train = train.Survived\n",
    "\n",
    "X_test = test.drop(columns=['PassengerId','Name','Ticket','Parch','SibSp','Age','Fare','has_no_parents_or_children_and_age_20_50'])\n",
    "\n",
    "X_test.isnull().any()\n"
   ]
  },
  {
   "cell_type": "code",
   "execution_count": 2,
   "metadata": {},
   "outputs": [],
   "source": [
    "\n",
    "\n",
    "from sklearn.naive_bayes import GaussianNB \n",
    "naive_bayes_model = GaussianNB()\n",
    "\n",
    "naive_bayes_model.fit(X_train, y_train)\n",
    "\n",
    "result = naive_bayes_model.predict(X_test)\n",
    "\n",
    "pd.DataFrame({'PassengerId':test.PassengerId,'Survived':result}).to_csv('gender_submission.csv', index= False)\n"
   ]
  },
  {
   "cell_type": "code",
   "execution_count": null,
   "metadata": {},
   "outputs": [],
   "source": [
    "# Accuracy 74.162%"
   ]
  }
 ],
 "metadata": {
  "kernelspec": {
   "display_name": "Python 3",
   "language": "python",
   "name": "python3"
  },
  "language_info": {
   "codemirror_mode": {
    "name": "ipython",
    "version": 3
   },
   "file_extension": ".py",
   "mimetype": "text/x-python",
   "name": "python",
   "nbconvert_exporter": "python",
   "pygments_lexer": "ipython3",
   "version": "3.7.4"
  }
 },
 "nbformat": 4,
 "nbformat_minor": 2
}
