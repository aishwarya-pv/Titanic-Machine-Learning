{
 "cells": [
  {
   "cell_type": "code",
   "execution_count": 1,
   "metadata": {},
   "outputs": [
    {
     "data": {
      "text/plain": [
       "Pclass                     False\n",
       "Sex                        False\n",
       "Embarked                   False\n",
       "Cabin_name                 False\n",
       "FareCat                    False\n",
       "Gender_title               False\n",
       "Age_cat                    False\n",
       "has_parents_or_children    False\n",
       "dtype: bool"
      ]
     },
     "execution_count": 1,
     "metadata": {},
     "output_type": "execute_result"
    }
   ],
   "source": [
    "import pandas as pd\n",
    "\n",
    "train = pd.read_csv(\"preprocessed_train_data.csv\")\n",
    "test = pd.read_csv(\"preprocessed_test_data.csv\")\n",
    "\n",
    "X_train = train.drop(columns = ['Survived','PassengerId','Name','Ticket','Parch','SibSp','Age','Fare','has_no_parents_or_children_and_age_20_50'])\n",
    "y_train = train.Survived\n",
    "\n",
    "X_test = test.drop(columns=['PassengerId','Name','Ticket','Parch','SibSp','Age','Fare','has_no_parents_or_children_and_age_20_50'])\n",
    "\n",
    "X_test.isnull().any()\n"
   ]
  },
  {
   "cell_type": "code",
   "execution_count": 2,
   "metadata": {},
   "outputs": [
    {
     "data": {
      "text/plain": [
       "<Figure size 1000x1000 with 2 Axes>"
      ]
     },
     "metadata": {},
     "output_type": "display_data"
    }
   ],
   "source": [
    "\n",
    "import seaborn as sns\n",
    "import matplotlib.pyplot as plt\n",
    "correlations = train.corr()\n",
    "\n",
    "fig, ax = plt.subplots(figsize=(10,10))\n",
    "sns.heatmap(correlations, vmax=1.0, center=0, fmt='.2f',\n",
    "            square=True, linewidths=.5, annot=True, cbar_kws={\"shrink\": .70})\n",
    "plt.show();"
   ]
  },
  {
   "cell_type": "code",
   "execution_count": 3,
   "metadata": {},
   "outputs": [],
   "source": [
    "# # Seeing the above heatmap. I made the following observations:\n",
    "# MOST IMPORTANT OBSERVATION IS : REMOVING CORRELATED FEATURES CAN IMPROVE THE ACCURACY\n",
    "# 1. Cabin_name and Pclass are 75% correlated.\n",
    "# 2. Age and AgeCat are 90% correlated\n",
    "# 3. Parch and SibSp are 41% correlated\n",
    "# 4. Cabin_name and Fare are 52% correlated.\n",
    "# 5. Parch and Sex are 25% correlated.\n",
    "# 6. Parch and has_Parents_or_children are 85% correlated.\n",
    "# 7. Gender_title and has_parents_or_children are 33% correlated\n",
    "# 8. Gender_title and SibSp are 26% correlated.\n",
    "# 9. Gender_title and Parch are 26% correlated.\n",
    "# 10. Gender_title and Sex are 57% correlated.\n",
    "# 11. SibSp and has_parents_or_children are 46% correlated"
   ]
  },
  {
   "cell_type": "code",
   "execution_count": null,
   "metadata": {},
   "outputs": [],
   "source": []
  },
  {
   "cell_type": "code",
   "execution_count": 4,
   "metadata": {},
   "outputs": [],
   "source": [
    "from sklearn.ensemble import BaggingClassifier, RandomForestClassifier\n",
    "from sklearn.model_selection import GridSearchCV,StratifiedKFold\n",
    "\n",
    "r = RandomForestClassifier()\n",
    "\n",
    "param_grid = {'n_estimators': [5,10,20,30,40,50,100,200,300,400,500]}\n",
    "\n",
    "cv = StratifiedKFold(n_splits=5, random_state=0, shuffle=True)\n",
    "\n",
    "grid = GridSearchCV(r, param_grid, cv = cv, scoring='accuracy',\n",
    "                    return_train_score=True)\n",
    "\n",
    "\n",
    "grid.fit(X_train, y_train)\n",
    "\n",
    "result = grid.predict(X_test)\n"
   ]
  },
  {
   "cell_type": "markdown",
   "metadata": {},
   "source": [
    "# Saving the test result in a file called gender_submission.csv"
   ]
  },
  {
   "cell_type": "code",
   "execution_count": 5,
   "metadata": {},
   "outputs": [],
   "source": [
    "pd.DataFrame({'PassengerId':test.PassengerId,'Survived':result}).to_csv('gender_submission.csv', index= False)"
   ]
  },
  {
   "cell_type": "code",
   "execution_count": 6,
   "metadata": {},
   "outputs": [],
   "source": [
    "# Kaggle accuracy: 77.99%"
   ]
  }
 ],
 "metadata": {
  "kernelspec": {
   "display_name": "Python 3",
   "language": "python",
   "name": "python3"
  },
  "language_info": {
   "codemirror_mode": {
    "name": "ipython",
    "version": 3
   },
   "file_extension": ".py",
   "mimetype": "text/x-python",
   "name": "python",
   "nbconvert_exporter": "python",
   "pygments_lexer": "ipython3",
   "version": "3.7.4"
  }
 },
 "nbformat": 4,
 "nbformat_minor": 2
}
